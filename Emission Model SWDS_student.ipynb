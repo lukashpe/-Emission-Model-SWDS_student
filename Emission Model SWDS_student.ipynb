{
 "cells": [
  {
   "cell_type": "markdown",
   "id": "fce0cec9",
   "metadata": {},
   "source": [
    "# Emission Model SWDS\n",
    "\n",
    "This little project is supposed to help you evaluate potential methane emissions from Solid Waste Disposal Sites according to the model used in the [CDM UNFCCC](https://cdm.unfccc.int/methodologies/PAmethodologies/tools/am-tool-04-v6.0.1.pdf/history_view). Complete the tasks a) and b) given in the notebook to obtain the ready to use tool. \n",
    "\n",
    "There are some nice illustrations in here, like heatmaps and stackplots, so I hope you have fun! I also put some comments in the code and a short explanation above each cell, so that the code can be better understood and modified. You can download the jupyter notebook or use the mybinder environment without having to install all the Python stuff.\n",
    "\n",
    "Thanks to Allen Downey, whose book \"[Modeling and Simulation in Python](https://greenteapress.com/wp/modsimpy/)\" helped me a lot in the building process. I also used his [ModSim library](https://pypi.org/project/modsimpy/) in the project. Thanks also to Jan."
   ]
  },
  {
   "cell_type": "markdown",
   "id": "fbccb4d6",
   "metadata": {},
   "source": [
    "## 0. Importing modules\n",
    "This cell makes sure that all packages used in the code are available."
   ]
  },
  {
   "cell_type": "code",
   "execution_count": null,
   "id": "d48f50b4",
   "metadata": {},
   "outputs": [],
   "source": [
    "from modsim import *\n",
    "import numpy as np\n",
    "from matplotlib.pyplot import figure, plot, axis, grid, imshow, show, legend, gca\n",
    "import pandas as pd\n",
    "import seaborn as sns\n",
    "%matplotlib inline"
   ]
  },
  {
   "cell_type": "markdown",
   "id": "ebf56af1",
   "metadata": {},
   "source": [
    "## 1. Defining model system\n",
    "\n",
    "### 1.1 Waste systems\n",
    "The composition of the waste and its characteristics are defined.\n",
    "\n",
    "#### Task a) \n",
    "Find out the DOCj and the kj for the different waste types in the [CDM UNFCCC](https://cdm.unfccc.int/methodologies/PAmethodologies/tools/am-tool-04-v6.0.1.pdf/history_view) description. The climate in the city is tropical (MAT>20°C, wet MAP>1000mm)."
   ]
  },
  {
   "cell_type": "code",
   "execution_count": null,
   "id": "679b6fd8",
   "metadata": {},
   "outputs": [],
   "source": [
    "#Food waste\n",
    "waste_charac_fw = System(\n",
    "    label=\"Food waste\",\n",
    "    share=0.6,\n",
    "    DOCj=\"put value here (p.v.h.)\",\n",
    "    kj=\"p.v.h.\")\n",
    "\n",
    "\n",
    "#Garden and park waste\n",
    "waste_charac_gpw = System(\n",
    "    label=\"G&P waste\",\n",
    "    share=0.1,\n",
    "    DOCj=\"p.v.h.\",\n",
    "    kj=\"p.v.h.\")\n",
    "\n",
    "\n",
    "#Wood waste\n",
    "waste_charac_ww = System(\n",
    "    label=\"Wood waste\",\n",
    "    share=0.03,\n",
    "    DOCj=\"p.v.h.\",\n",
    "    kj=\"p.v.h.\")\n",
    "\n",
    "\n",
    "#Paper\n",
    "waste_charac_p = System(\n",
    "    label=\"Paper\",\n",
    "    share=0.1,\n",
    "    DOCj=\"p.v.h.\",\n",
    "    kj=\"p.v.h.\")\n",
    "\n",
    "\n",
    "#Textiles\n",
    "waste_charac_t = System(\n",
    "    label=\"Textiles\",\n",
    "    share=0.03,\n",
    "    DOCj=\"p.v.h.\",\n",
    "    kj=\"p.v.h.\")\n",
    "\n",
    "\n",
    "#Other\n",
    "waste_charac_o = System(\n",
    "    label=\"Other\",\n",
    "    share=0.14,\n",
    "    DOCj=\"p.v.h.\",\n",
    "    kj=\"p.v.h.\")\n",
    "\n"
   ]
  },
  {
   "cell_type": "markdown",
   "id": "a16662d5",
   "metadata": {},
   "source": [
    "Plotting waste composition"
   ]
  },
  {
   "cell_type": "code",
   "execution_count": null,
   "id": "e7403f2f",
   "metadata": {},
   "outputs": [],
   "source": [
    "y = np.array([waste_charac_fw.share, waste_charac_gpw.share, waste_charac_ww.share, waste_charac_p.share,\n",
    "             waste_charac_t.share, waste_charac_o.share])\n",
    "mylabels = [\"Food waste\", \"Garden and Park waste\", \"Wood waste\", \"Paper\", \"Textiles\", \"Others\"]\n",
    "plt.figure(figsize=(10,6), dpi=80)\n",
    "plt.title('Waste composition')\n",
    "plt.pie(y, labels = mylabels)\n",
    "plt.show() \n"
   ]
  },
  {
   "cell_type": "markdown",
   "id": "98e2a405",
   "metadata": {},
   "source": [
    "### 1.2 Model parameters\n",
    "The specific model parameters are defined in here. Then, they are summarized as \"Const_multi\".\n",
    "\n",
    "#### Task b) \n",
    "Find out the model parameters for the use case in the [CDM UNFCCC](https://cdm.unfccc.int/methodologies/PAmethodologies/tools/am-tool-04-v6.0.1.pdf/history_view) description.\n",
    "\n",
    "Assumptions: \n",
    "- No gas capture exists\n",
    "- Anaerobic managed landfill\n",
    "- Not covered with soil or compost"
   ]
  },
  {
   "cell_type": "code",
   "execution_count": null,
   "id": "d9cd5a8b",
   "metadata": {},
   "outputs": [],
   "source": [
    "#Defining model\n",
    "\n",
    "model = System(\n",
    "    f = \"p.v.h.\", #fraction of methane captured and flared/combusted/used\n",
    "    phi = \"p.v.h.\", # model correction factor\n",
    "    F = \"p.v.h.\", #  Fraction of CH4 in LFG \n",
    "    DOCf = \"p.v.h.\",  #fraction of DOC dissimilated \n",
    "    OX = \"p.v.h.\", # Oxidation factor \n",
    "    MCF = \"p.v.h.\", # methane correction factor \n",
    "    )\n",
    "\n",
    "\n",
    "#Combining constant parameters\n",
    "Const_multi = model.phi*(1-model.f)*(1-model.OX)*(16/12)*model.F*model.DOCf*model.MCF"
   ]
  },
  {
   "cell_type": "markdown",
   "id": "e704093c",
   "metadata": {},
   "source": [
    "### 1.3 Time frame\n",
    "The next thing to do is to define how long the disposal site will be used and the time period of emission prognosis."
   ]
  },
  {
   "cell_type": "code",
   "execution_count": null,
   "id": "0dd39005",
   "metadata": {},
   "outputs": [],
   "source": [
    "#t is period of waste disposal\n",
    "t_0= 2021\n",
    "t_end = 2040 \n",
    "year_array = range(t_0,t_end)\n",
    "\n",
    "#y is period of prognosis\n",
    "y_0 = 2021\n",
    "y_end = 2070\n",
    "year_of_prognosis_array = range(y_0,y_end)\n",
    "\n"
   ]
  },
  {
   "cell_type": "markdown",
   "id": "985a7f60",
   "metadata": {},
   "source": [
    "### 1.4 City data\n",
    "This cell defines parameters like population and its growth, waste production per person, service coverage, ... . Then, the total amount of waste that is produced in each year is calculated."
   ]
  },
  {
   "cell_type": "code",
   "execution_count": null,
   "id": "1d936807",
   "metadata": {},
   "outputs": [],
   "source": [
    "#Waste per year\n",
    "\n",
    "#given data\n",
    "pop = 1000000 \n",
    "pop_growth = 0.02\n",
    "r = 0.7 #rate of waste collection after informal waste collection\n",
    "service_coverage = 0.7 #kg\n",
    "\n",
    "#Introducing a TimeSeries element with initial conditation, \n",
    "#because \"t in year_array\" always stops one step too early\n",
    "W_0 = pop*r*service_coverage*365/1000\n",
    "results_wg = TimeSeries()\n",
    "results_wg[t_0] = W_0\n",
    "\n",
    "\n",
    "#loop to fill TimeSeries waste generation\n",
    "for t in year_array:\n",
    "    results_wg[t+1] = round(results_wg[t] + results_wg[t] * pop_growth)\n",
    "    \n",
    "#print(results_wg)\n",
    "d = {'Total waste landfilled [t]': results_wg}\n",
    "df = pd.DataFrame(data=d)\n",
    "\n",
    "\n",
    "#waste generation bar plot\n",
    "ax = df.plot(legend=False, kind=\"bar\")\n",
    "ax.set_xlabel(\"Year [a]\")\n",
    "ax.set_ylabel(\"Total waste landfilled [t]\")\n",
    "show(ax)"
   ]
  },
  {
   "cell_type": "markdown",
   "id": "7924abbf",
   "metadata": {},
   "source": [
    "## 2. Defining prognosis formulas\n",
    "In this cell, the two formulas for the actual prognosis are defined. Later, those will be used in a simple  way. The first formula calculates the total methane emissions in each year of prognosis for the different waste types and displays them in a table. This data will be used for the stack plot later on. The second formula generates heatmaps, that display how much and how long waste that has been landfilled in a certain year emits methane."
   ]
  },
  {
   "cell_type": "code",
   "execution_count": null,
   "id": "1bdf91ce",
   "metadata": {},
   "outputs": [],
   "source": [
    "#Defining formula for the generation of emission matrix for different waste types and heatmaps.\n",
    "\n",
    "def generate_emission_matrix(waste_charac, Const_multi):\n",
    "\n",
    "    #Introducing TimesSeries() element for the sum of the emissions of the different waste types\n",
    "    sum_results_E = TimeSeries()\n",
    "    \n",
    "    # looping through prognosis years to get emissions in a specific year of prognosis for the amount of wastes\n",
    "    for y in year_of_prognosis_array:\n",
    "        #Introducing TimesSeries() element for the emissions per year of prognosis\n",
    "        #for specific years of the different waste types\n",
    "        results_E = TimeSeries()\n",
    "        E_0 = Const_multi * results_wg[t_0] * waste_charac.share * waste_charac.DOCj * exp(-waste_charac.kj*(y-t_0))*(1-exp(-waste_charac.kj))\n",
    "        results_E[t_0] = E_0\n",
    "        # looping through years \n",
    "        for t in year_array:\n",
    "            if y-(t+1) >= 0:\n",
    "                results_E[t+1] = Const_multi * results_wg[t+1] * waste_charac.share * waste_charac.DOCj * exp(-waste_charac.kj*(y-(t+1)))*(1-exp(-waste_charac.kj))\n",
    "            else:\n",
    "                results_E[t+1] = \"N.A.\"\n",
    "        \n",
    "        \n",
    "        \n",
    "        #Putting all results in one big array\n",
    "        if y == year_of_prognosis_array[0]:\n",
    "            matrix = np.array([results_E])\n",
    "        else:\n",
    "            matrix = np.concatenate((matrix, [results_E]))\n",
    "        \n",
    "        #Generate the sum of emissions for each prognosis year\n",
    "        a = 0\n",
    "        for i in results_E:\n",
    "            if i != \"N.A.\":\n",
    "                a+=i\n",
    "        sum_results_E[y] = a\n",
    "        \n",
    "    # Calculating the emissions for the last year of prognosis, the loop above does not calculate that \n",
    "    results_E = TimeSeries()\n",
    "    E_end = Const_multi * results_wg[t_0] * waste_charac.share * waste_charac.DOCj * exp(-waste_charac.kj*(y_end-t_0))*(1-exp(-waste_charac.kj))\n",
    "    results_E[t_0] = E_end\n",
    "    for t in year_array:\n",
    "            if y_end-(t+1) >= 0:\n",
    "                results_E[t+1] = Const_multi * results_wg[t+1] * waste_charac.share * waste_charac.DOCj * exp(-waste_charac.kj*(y_end-(t+1)))*(1-exp(-waste_charac.kj))\n",
    "            else:\n",
    "                results_E[t+1] = \"N.A.\"\n",
    "    a = 0\n",
    "    for i in results_E:\n",
    "        if i != \"N.A.\":\n",
    "            a+=i\n",
    "    sum_results_E[y_end] = a\n",
    "    matrix = np.concatenate((matrix, [results_E]))\n",
    "    \n",
    "    return sum_results_E\n",
    "\n",
    "\n",
    "\n",
    "def generate_emission_heatmaps_matrix(waste_charac, Const_multi):\n",
    "    heatmap_data = dict()\n",
    "    #Introducing TimesSeries() element for the sum of the emissions of the different waste types\n",
    "    sum_results_E = TimeSeries()\n",
    "    \n",
    "    # looping through prognosis years to get emissions in a specific year of prognosis for the amount of wastes\n",
    "    for y in year_of_prognosis_array:\n",
    "        #Introducing TimesSeries() element for the emissions per year of prognosis\n",
    "        #for specific years of the different waste types\n",
    "        results_E = TimeSeries()\n",
    "        E_0 = Const_multi * results_wg[t_0] * waste_charac.share * waste_charac.DOCj * exp(-waste_charac.kj*(y-t_0))*(1-exp(-waste_charac.kj))\n",
    "        results_E[t_0] = E_0\n",
    "        # looping through years \n",
    "        for t in year_array:\n",
    "            if y-(t+1) >= 0:\n",
    "                results_E[t+1] = Const_multi * results_wg[t+1] * waste_charac.share * waste_charac.DOCj * exp(-waste_charac.kj*(y-(t+1)))*(1-exp(-waste_charac.kj))\n",
    "            else:\n",
    "                results_E[t+1] = \"N.A.\"\n",
    "        \n",
    "        \n",
    "        #Putting all results in one big array\n",
    "        if y == year_of_prognosis_array[0]:\n",
    "            matrix = np.array([results_E])\n",
    "        else:\n",
    "            matrix = np.concatenate((matrix, [results_E]))\n",
    "        heatmap_data[y] = results_E\n",
    "        \n",
    "        \n",
    "    # Calculating the emissions for the last year of prognosis, the loop above does not calculate that \n",
    "    results_E = TimeSeries()\n",
    "    E_end = Const_multi * results_wg[t_0] * waste_charac.share * waste_charac.DOCj * exp(-waste_charac.kj*(y_end-t_0))*(1-exp(-waste_charac.kj))\n",
    "    results_E[t_0] = E_end\n",
    "    for t in year_array:\n",
    "            if y_end-(t+1) >= 0:\n",
    "                results_E[t+1] = Const_multi * results_wg[t+1] * waste_charac.share * waste_charac.DOCj * exp(-waste_charac.kj*(y_end-(t+1)))*(1-exp(-waste_charac.kj))\n",
    "            else:\n",
    "                results_E[t+1] = \"N.A.\"\n",
    "    heatmap_data[y_end] = results_E\n",
    "    \n",
    "    \n",
    "    #plotting heatmap\n",
    "    df = pd.DataFrame(data = heatmap_data)\n",
    "    df = df.transpose()\n",
    "    df = df.replace(\"N.A.\", 0)  \n",
    "    plt.subplots(figsize=(10,5))\n",
    "    sns.heatmap(df, cbar_kws={'label': 'Emissions [t CH4]'}) #for same color range add , vmin=0, vmax=1800 in heatmap(...)\n",
    "    ax.set_title(f\"Emissions from {waste_charac.label} [t CH4]\",fontsize =20)\n",
    "    plt.xlabel(\"Year of landfilling [a]\") \n",
    "    plt.ylabel(\"Year of prognosis [a]\")\n",
    "    plt.title(f\"Heatmap {waste_charac.label}\")\n",
    "    plt.show()"
   ]
  },
  {
   "cell_type": "markdown",
   "id": "9d29774a",
   "metadata": {},
   "source": [
    "## 3. Modeling\n",
    "Now we can generate our results via plots and tables. It takes a while if you run the cells, be patient.. :) "
   ]
  },
  {
   "cell_type": "markdown",
   "id": "dd47455c",
   "metadata": {},
   "source": [
    "### 3.1 Heatmaps"
   ]
  },
  {
   "cell_type": "code",
   "execution_count": null,
   "id": "7b268d91",
   "metadata": {},
   "outputs": [],
   "source": [
    "generate_emission_heatmaps_matrix(waste_charac_fw, Const_multi)\n",
    "generate_emission_heatmaps_matrix(waste_charac_gpw, Const_multi)\n",
    "generate_emission_heatmaps_matrix(waste_charac_ww, Const_multi)\n",
    "generate_emission_heatmaps_matrix(waste_charac_p, Const_multi)\n",
    "generate_emission_heatmaps_matrix(waste_charac_t, Const_multi)\n",
    "generate_emission_heatmaps_matrix(waste_charac_o, Const_multi)"
   ]
  },
  {
   "cell_type": "markdown",
   "id": "216945ee",
   "metadata": {},
   "source": [
    "### 3.2 Emission matrix"
   ]
  },
  {
   "cell_type": "code",
   "execution_count": null,
   "id": "36c97ac4",
   "metadata": {
    "scrolled": true
   },
   "outputs": [],
   "source": [
    "y_fw = generate_emission_matrix(waste_charac_fw, Const_multi)\n",
    "y_gpw = generate_emission_matrix(waste_charac_gpw, Const_multi)\n",
    "y_ww = generate_emission_matrix(waste_charac_ww, Const_multi)\n",
    "y_p = generate_emission_matrix(waste_charac_p, Const_multi)\n",
    "y_t = generate_emission_matrix(waste_charac_t, Const_multi)\n",
    "y_o = generate_emission_matrix(waste_charac_o, Const_multi)"
   ]
  },
  {
   "cell_type": "code",
   "execution_count": null,
   "id": "0e1f67c9",
   "metadata": {},
   "outputs": [],
   "source": [
    "d = {'E Food waste [t CH4]': y_fw, \n",
    "     'E G&P waste [t CH4]': y_gpw,\n",
    "     'E Wood waste [t CH4]': y_ww,\n",
    "     'E Paper [t CH4]': y_p,\n",
    "     'E Textiles [t CH4]': y_t,\n",
    "     'E Others [t CH4]': y_o}\n",
    "\n",
    "df = pd.DataFrame(data=d)\n",
    "\n",
    "\n",
    "df = df.replace(0.000000, \"N.A.\")\n",
    "df= df.style.highlight_max(color = 'lightgreen')\n",
    "df"
   ]
  },
  {
   "cell_type": "markdown",
   "id": "0f5314d9",
   "metadata": {},
   "source": [
    "### 3.3 Emission stackplot"
   ]
  },
  {
   "cell_type": "code",
   "execution_count": null,
   "id": "e8f0b5f7",
   "metadata": {},
   "outputs": [],
   "source": [
    "x = range(y_0,y_end+1)\n",
    "plt.figure(figsize=(10,6), dpi=80)\n",
    "plt.stackplot(x, y_fw, y_gpw, y_ww,y_p,y_t)\n",
    "plt.legend([\"Food waste\", \"Garden and Park waste\",\"Wood waste\", \"Paper\", \"Textiles\"])\n",
    "plt.title('CH4 Emissions from waste types')\n",
    "plt.grid('on')\n",
    "plt.xlabel('Years [a]')\n",
    "plt.ylabel('CH4 Emissions [t CH4]')\n",
    "plt.show()"
   ]
  },
  {
   "cell_type": "markdown",
   "id": "17d14b42",
   "metadata": {},
   "source": [
    "## 4. Export to Excel"
   ]
  },
  {
   "cell_type": "markdown",
   "id": "b890fda0",
   "metadata": {},
   "source": [
    "By running the cell below, you can export the summary matrix to an Excel file on your computer. If you are using mybinder, click on the folder button in the upper left corner below the jupyter logo, there you can find the file for you to download. You can copy the values and use them in your Landfill excel sheet."
   ]
  },
  {
   "cell_type": "code",
   "execution_count": null,
   "id": "211ed67a",
   "metadata": {},
   "outputs": [],
   "source": [
    "df.to_excel(\"emission_matrix.xlsx\")"
   ]
  },
  {
   "cell_type": "code",
   "execution_count": null,
   "id": "c3ef06d0",
   "metadata": {},
   "outputs": [],
   "source": []
  }
 ],
 "metadata": {
  "kernelspec": {
   "display_name": "Python 3",
   "language": "python",
   "name": "python3"
  },
  "language_info": {
   "codemirror_mode": {
    "name": "ipython",
    "version": 3
   },
   "file_extension": ".py",
   "mimetype": "text/x-python",
   "name": "python",
   "nbconvert_exporter": "python",
   "pygments_lexer": "ipython3",
   "version": "3.8.10"
  }
 },
 "nbformat": 4,
 "nbformat_minor": 5
}
